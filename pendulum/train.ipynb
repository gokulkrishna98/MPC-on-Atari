{
 "cells": [
  {
   "cell_type": "code",
   "execution_count": 8,
   "id": "e36d6813",
   "metadata": {},
   "outputs": [],
   "source": [
    "import torch\n",
    "import numpy as np\n",
    "import torch.nn as nn\n",
    "import torch.optim as optim\n",
    "\n",
    "from torch.utils.data import Dataset\n",
    "from torch.utils.data import DataLoader"
   ]
  },
  {
   "cell_type": "code",
   "execution_count": 9,
   "id": "07a39c05",
   "metadata": {},
   "outputs": [],
   "source": [
    "def true_reward(theta, theta_dt, torque):\n",
    "    return -(theta**2 + 0.1 * theta_dt**2 + 0.001 * torque**2)"
   ]
  },
  {
   "cell_type": "code",
   "execution_count": 10,
   "id": "857198e3",
   "metadata": {},
   "outputs": [],
   "source": [
    "class PendulumRewardDataset(Dataset):\n",
    "    def __init__(self, size=10000):\n",
    "        self.size = size\n",
    "        self.data = []\n",
    "\n",
    "        for _ in range(size):\n",
    "            theta = np.random.uniform(-np.pi, np.pi)\n",
    "            theta_dt = np.random.uniform(-8.0, 8.0)\n",
    "            torque = np.random.uniform(-2.0, 2.0)\n",
    "            reward = true_reward(theta, theta_dt, torque)\n",
    "            self.data.append((theta, theta_dt, torque, reward))\n",
    "    \n",
    "    def __len__(self):\n",
    "        return self.size\n",
    "    \n",
    "    def __getitem__(self, idx):\n",
    "        theta, theta_dt, torque, reward = self.data[idx]\n",
    "        x = torch.tensor([theta, theta_dt, torque], dtype=torch.float32)\n",
    "        y = torch.tensor([reward], dtype=torch.float32)\n",
    "        return x, y"
   ]
  },
  {
   "cell_type": "code",
   "execution_count": 11,
   "id": "220325e0",
   "metadata": {},
   "outputs": [],
   "source": [
    "dataset = PendulumRewardDataset(size=10000)\n",
    "dataloader = DataLoader(dataset, batch_size=64, shuffle=True)"
   ]
  },
  {
   "cell_type": "code",
   "execution_count": 12,
   "id": "c381dbde",
   "metadata": {},
   "outputs": [],
   "source": [
    "class RewardModel(nn.Module):\n",
    "    def __init__(self):\n",
    "        super().__init__()\n",
    "        self.net = nn.Sequential(\n",
    "            nn.Linear(3, 64),\n",
    "            nn.ReLU(),\n",
    "            nn.Linear(64, 64),\n",
    "            nn.ReLU(),\n",
    "            nn.Linear(64, 1)\n",
    "        )\n",
    "    \n",
    "    def forward(self, x):\n",
    "        return self.net(x)"
   ]
  },
  {
   "cell_type": "code",
   "execution_count": 13,
   "id": "8149541b",
   "metadata": {},
   "outputs": [],
   "source": [
    "def train_reward_model(model, dataloader, epochs=10, lr=1e-3, device='cpu'):\n",
    "    model.to(device)\n",
    "    criterion = nn.MSELoss()\n",
    "    optimizer = optim.Adam(model.parameters(), lr=lr)\n",
    "\n",
    "    for epoch in range(epochs):\n",
    "        model.train()\n",
    "        running_loss = 0.0\n",
    "        for x, y in dataloader:\n",
    "            x, y = x.to(device), y.to(device)\n",
    "\n",
    "            pred = model(x)\n",
    "            loss = criterion(pred, y)\n",
    "\n",
    "            optimizer.zero_grad()\n",
    "            loss.backward()\n",
    "            optimizer.step()\n",
    "\n",
    "            running_loss += loss.item()\n",
    "\n",
    "        avg_loss = running_loss / len(dataloader)\n",
    "        print(f\"Epoch {epoch+1}, Loss: {avg_loss:.4f}\")"
   ]
  },
  {
   "cell_type": "code",
   "execution_count": 14,
   "id": "215c091b",
   "metadata": {},
   "outputs": [
    {
     "name": "stdout",
     "output_type": "stream",
     "text": [
      "Epoch 1, Loss: 10.9741\n",
      "Epoch 2, Loss: 1.9405\n",
      "Epoch 3, Loss: 0.3938\n",
      "Epoch 4, Loss: 0.1880\n",
      "Epoch 5, Loss: 0.1291\n",
      "Epoch 6, Loss: 0.0797\n",
      "Epoch 7, Loss: 0.0514\n",
      "Epoch 8, Loss: 0.0363\n",
      "Epoch 9, Loss: 0.0268\n",
      "Epoch 10, Loss: 0.0212\n"
     ]
    }
   ],
   "source": [
    "model = RewardModel()\n",
    "train_reward_model(model, dataloader, epochs=10, lr=1e-3)"
   ]
  },
  {
   "cell_type": "code",
   "execution_count": 17,
   "id": "cf0de82b",
   "metadata": {},
   "outputs": [],
   "source": [
    "def test_model_prediction(model, theta, theta_dt, torque):\n",
    "    model.eval()\n",
    "    \n",
    "    # Input tensor\n",
    "    x = torch.tensor([[theta, theta_dt, torque]], dtype=torch.float32)\n",
    "    \n",
    "    # Model prediction\n",
    "    with torch.no_grad():\n",
    "        predicted_reward = model(x).item()\n",
    "    \n",
    "    # Ground truth\n",
    "    actual_reward = true_reward(theta, theta_dt, torque)\n",
    "    \n",
    "    print(f\"Input: theta={theta:.3f}, theta_dt={theta_dt:.3f}, torque={torque:.3f}\")\n",
    "    print(f\"Predicted Reward: {predicted_reward:.4f}\")\n",
    "    print(f\"True Reward:      {actual_reward:.4f}\")\n",
    "    print(f\"Error:            {abs(predicted_reward - actual_reward):.4f}\")"
   ]
  },
  {
   "cell_type": "code",
   "execution_count": 18,
   "id": "7b5c4fdd",
   "metadata": {},
   "outputs": [
    {
     "name": "stdout",
     "output_type": "stream",
     "text": [
      "Input: theta=1.000, theta_dt=0.500, torque=-1.500\n",
      "Predicted Reward: -0.8990\n",
      "True Reward:      -1.0272\n",
      "Error:            0.1283\n"
     ]
    }
   ],
   "source": [
    "test_model_prediction(model, theta=1.0, theta_dt=0.5, torque=-1.5)"
   ]
  }
 ],
 "metadata": {
  "kernelspec": {
   "display_name": "ddrl_a4",
   "language": "python",
   "name": "python3"
  },
  "language_info": {
   "codemirror_mode": {
    "name": "ipython",
    "version": 3
   },
   "file_extension": ".py",
   "mimetype": "text/x-python",
   "name": "python",
   "nbconvert_exporter": "python",
   "pygments_lexer": "ipython3",
   "version": "3.8.20"
  }
 },
 "nbformat": 4,
 "nbformat_minor": 5
}
